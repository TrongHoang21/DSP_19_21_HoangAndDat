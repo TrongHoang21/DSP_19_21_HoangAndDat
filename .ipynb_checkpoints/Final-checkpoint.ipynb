{
 "cells": [
  {
   "cell_type": "markdown",
   "id": "f36a2de3",
   "metadata": {},
   "source": [
    "# Final Project\n",
    "\n",
    "**Họ và tên thành viên 1:** Trần Tuấn Đạt\n",
    "\n",
    "**MSSV:** 18120313\n",
    "\n",
    "**Họ và tên thành viên 2:** Bùi Trọng Hoàng\n",
    "\n",
    "**MSSV:** 18120537"
   ]
  },
  {
   "cell_type": "markdown",
   "id": "433956c4",
   "metadata": {},
   "source": [
    "---"
   ]
  },
  {
   "cell_type": "markdown",
   "id": "cbeaaa12",
   "metadata": {},
   "source": [
    "## Thu thập dữ liệu"
   ]
  },
  {
   "cell_type": "code",
   "execution_count": null,
   "id": "52dde67d",
   "metadata": {},
   "outputs": [],
   "source": [
    "Test commit"
   ]
  },
  {
   "cell_type": "markdown",
   "id": "5a3c96d1",
   "metadata": {},
   "source": [
    "---"
   ]
  },
  {
   "cell_type": "markdown",
   "id": "efe421fb",
   "metadata": {},
   "source": [
    "## Khám phá dữ liệu"
   ]
  },
  {
   "cell_type": "code",
   "execution_count": null,
   "id": "ec6aa133",
   "metadata": {},
   "outputs": [],
   "source": []
  },
  {
   "cell_type": "markdown",
   "id": "8e1db722",
   "metadata": {},
   "source": [
    "---"
   ]
  },
  {
   "cell_type": "markdown",
   "id": "8ae380ce",
   "metadata": {},
   "source": [
    "## Đưa ra câu hỏi để trả lời"
   ]
  },
  {
   "cell_type": "code",
   "execution_count": null,
   "id": "398e0365",
   "metadata": {},
   "outputs": [],
   "source": []
  },
  {
   "cell_type": "markdown",
   "id": "c514ceea",
   "metadata": {},
   "source": [
    "---"
   ]
  },
  {
   "cell_type": "markdown",
   "id": "6e8922f7",
   "metadata": {},
   "source": [
    "### Tiền xử lý"
   ]
  },
  {
   "cell_type": "code",
   "execution_count": null,
   "id": "2a39a4ca",
   "metadata": {},
   "outputs": [],
   "source": []
  },
  {
   "cell_type": "markdown",
   "id": "58f79fde",
   "metadata": {},
   "source": [
    "---"
   ]
  },
  {
   "cell_type": "markdown",
   "id": "bea85782",
   "metadata": {},
   "source": [
    "### Phân tích dữ liệu để trả lời"
   ]
  }
 ],
 "metadata": {
  "kernelspec": {
   "display_name": "Python 3 (ipykernel)",
   "language": "python",
   "name": "python3"
  },
  "language_info": {
   "codemirror_mode": {
    "name": "ipython",
    "version": 3
   },
   "file_extension": ".py",
   "mimetype": "text/x-python",
   "name": "python",
   "nbconvert_exporter": "python",
   "pygments_lexer": "ipython3",
   "version": "3.8.8"
  }
 },
 "nbformat": 4,
 "nbformat_minor": 5
}
