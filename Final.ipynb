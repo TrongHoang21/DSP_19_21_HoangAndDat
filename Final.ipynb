{
 "cells": [
  {
   "cell_type": "markdown",
   "id": "f36a2de3",
   "metadata": {},
   "source": [
    "# Final Project\n",
    "\n",
    "**Họ và tên thành viên 1:** Trần Tuấn Đạt\n",
    "\n",
    "**MSSV:** 18120313\n",
    "\n",
    "**Họ và tên thành viên 2:** Bùi Trọng Hoàng\n",
    "\n",
    "**MSSV:** 18120537"
   ]
  },
  {
   "cell_type": "markdown",
   "id": "433956c4",
   "metadata": {},
   "source": [
    "---"
   ]
  },
  {
   "cell_type": "markdown",
   "id": "93ed7f8e",
   "metadata": {},
   "source": [
    "## Thư viện sử dụng"
   ]
  },
  {
   "cell_type": "code",
   "execution_count": 1,
   "id": "9b571ec3",
   "metadata": {},
   "outputs": [],
   "source": [
    "import pandas as pd\n",
    "import numpy as np\n",
    "\n",
    "# Dùng để in array numpy đầy đủ hơn\n",
    "import sys  \n",
    "np.set_printoptions(threshold=sys.maxsize)\n",
    "\n",
    "# Dùng để đo thời gian chạy code\n",
    "import time"
   ]
  },
  {
   "cell_type": "markdown",
   "id": "6d75a73e",
   "metadata": {},
   "source": [
    "## Chú thích\n",
    "\n",
    "1. Phim\n",
    "\n",
    "Để cho ngắn gọn, thì mỗi dòng của dữ liệu sẽ được gọi là một dòng 'phim'\n",
    "\n",
    "Điều này để rút gọn giữa Movie hay TV Show\n",
    "\n",
    "Trong trường hợp cụ thể thì sẽ gọi một dòng là Movie hoặc TV Show (Shơw)"
   ]
  },
  {
   "cell_type": "markdown",
   "id": "1f65598c",
   "metadata": {},
   "source": [
    "---"
   ]
  },
  {
   "cell_type": "markdown",
   "id": "cbeaaa12",
   "metadata": {},
   "source": [
    "# I. Thu thập dữ liệu"
   ]
  },
  {
   "cell_type": "markdown",
   "id": "5a3c96d1",
   "metadata": {},
   "source": [
    "Dữ liệu: Netflix Movies and TV Shows\n",
    "\n",
    "Mô tả dữ liệu:\n",
    "\n",
    "- Tập hợp dữ liệu tất cả các TV Shows và phim trên nền tảng Netflix. Được cập nhật hàng tháng\n",
    "\n",
    "\n",
    "Nguồn dữ liệu:\n",
    "\n",
    "- Link: https://www.kaggle.com/shivamb/netflix-shows\n",
    "\n",
    "- Nguồn sinh dữ liệu: Flixable\n",
    "\n",
    "- Phương pháp thu thập: Regular API calls\n",
    "\n",
    "- Chủ sỡ hữu Dataset: Shivam Bansal\n",
    "\n",
    "Thông tin phiên bản của bộ dữ liệu: \n",
    "- Expected update frequency: Quarterly\n",
    "- Last updated: 2021-09-27\n",
    "- Date created: 2019-12-04\n",
    "- Current version: Version 5\n",
    "\n",
    "\n",
    "Thông tin về quyền sử dụng:\n",
    "\n",
    "- License: CC0: Public Domain\n",
    "\n",
    "    You can copy, modify, distribute and perform the work, \n",
    "    even for commercial purposes, all without asking permission.\n",
    "    \n",
    " https://creativecommons.org/publicdomain/zero/1.0/\n",
    "    abc\n",
    "\n"
   ]
  },
  {
   "cell_type": "code",
   "execution_count": 2,
   "id": "27ca1754",
   "metadata": {},
   "outputs": [],
   "source": [
    "df = pd.read_csv('Data/netflix_titles.csv')"
   ]
  },
  {
   "cell_type": "markdown",
   "id": "a8976211",
   "metadata": {},
   "source": [
    "---"
   ]
  },
  {
   "cell_type": "markdown",
   "id": "efe421fb",
   "metadata": {},
   "source": [
    "# II. Khám phá dữ liệu"
   ]
  },
  {
   "cell_type": "markdown",
   "id": "fa6deb1c",
   "metadata": {},
   "source": [
    "### 1. Dữ liệu có bao nhiêu dòng và bao nhiêu cột?"
   ]
  },
  {
   "cell_type": "markdown",
   "id": "5e0a8997",
   "metadata": {},
   "source": [
    "#### Số cột "
   ]
  },
  {
   "cell_type": "code",
   "execution_count": 3,
   "id": "509c97e0",
   "metadata": {},
   "outputs": [
    {
     "data": {
      "text/plain": [
       "12"
      ]
     },
     "execution_count": 3,
     "metadata": {},
     "output_type": "execute_result"
    }
   ],
   "source": [
    "n_cols = len(df.columns)\n",
    "n_cols"
   ]
  },
  {
   "cell_type": "markdown",
   "id": "3519b9a8",
   "metadata": {},
   "source": [
    "#### Số dòng"
   ]
  },
  {
   "cell_type": "code",
   "execution_count": 4,
   "id": "742539c2",
   "metadata": {},
   "outputs": [
    {
     "data": {
      "text/plain": [
       "8807"
      ]
     },
     "execution_count": 4,
     "metadata": {},
     "output_type": "execute_result"
    }
   ],
   "source": [
    "n_rows = df.shape[0]\n",
    "n_rows"
   ]
  },
  {
   "cell_type": "markdown",
   "id": "dbd1676c",
   "metadata": {},
   "source": [
    "### 2. Mỗi dòng có ý nghĩa gì? Có vấn đề các dòng có ý nghĩa khác nhau không? Dữ liệu có các dòng bị lặp không?"
   ]
  },
  {
   "cell_type": "markdown",
   "id": "2cdb9901",
   "metadata": {},
   "source": [
    "#### Mỗi dòng có ý nghĩa gì?\n",
    "\n",
    "Mỗi dòng là đại diện cho một bộ phim hoặc một TV show\n",
    "\n",
    "Chỉ có một dòng đầu tiên là chứa các tên cột, còn không có dòng lạc loài trong phần còn lại của dữ liệu"
   ]
  },
  {
   "cell_type": "markdown",
   "id": "9dbcddcc",
   "metadata": {},
   "source": [
    "#### Dữ liệu có các dòng bị lặp không?"
   ]
  },
  {
   "cell_type": "code",
   "execution_count": 5,
   "id": "4efa5213",
   "metadata": {},
   "outputs": [
    {
     "data": {
      "text/plain": [
       "False"
      ]
     },
     "execution_count": 5,
     "metadata": {},
     "output_type": "execute_result"
    }
   ],
   "source": [
    "# True = 1, False = 0, nên ta sum cột này lại, nếu = 0 thì không có dòng trùng\n",
    "res = df.duplicated().sum()\n",
    "\n",
    "#kết quả là không có dòng trùng nhau\n",
    "res > 0\n"
   ]
  },
  {
   "cell_type": "markdown",
   "id": "433a9bb4",
   "metadata": {},
   "source": [
    "### 3. Mỗi cột có ý nghĩa gì? Mỗi cột hiện đang có kiểu dữ liệu gì? Có cột nào có kiểu dữ liệu chưa phù hợp để có thể xử lý tiếp không?"
   ]
  },
  {
   "cell_type": "markdown",
   "id": "7339d6ee",
   "metadata": {},
   "source": [
    "#### Mỗi cột có ý nghĩa gì?\n",
    "\n",
    "Theo mô tả bộ dữ liệu tại nguồn\n",
    "\n",
    "- **'show_id'** : Mã id của phim\n",
    "\n",
    "- **'type'**: Loại của phim là Movie hay TV Show\n",
    "\n",
    "- **'title'**: Tên phim\n",
    "\n",
    "- **'director'**: Đạo diễn của phim\n",
    "\n",
    "- **'cast'**: Diễn viên của phim\n",
    "\n",
    "- **'country'**: Nước sản xuất\n",
    "\n",
    "- **'date_added'**: Ngày được thêm vào bộ dữ liệu\n",
    "\n",
    "- **'release_year'**: Năm sản xuất của phim\n",
    "\n",
    "- **'rating'**: Phân loại đối tượng xem của phim (PG-13, TV-MA,..)\n",
    "\n",
    "- **'duration'**: Thời lượng của phim\n",
    "\n",
    "- **'listed_in'**: Thể loại của phim\n",
    "\n",
    "- **'description'**: Mô tả sơ bộ của phim\n",
    "     "
   ]
  },
  {
   "cell_type": "markdown",
   "id": "eb0fad97",
   "metadata": {},
   "source": [
    "#### Mỗi cột hiện đang có kiểu dữ liệu gì? Có cột nào có kiểu dữ liệu chưa phù hợp để có thể xử lý tiếp không?"
   ]
  },
  {
   "cell_type": "code",
   "execution_count": 6,
   "id": "87192066",
   "metadata": {},
   "outputs": [
    {
     "data": {
      "text/plain": [
       "show_id         object\n",
       "type            object\n",
       "title           object\n",
       "director        object\n",
       "cast            object\n",
       "country         object\n",
       "date_added      object\n",
       "release_year     int64\n",
       "rating          object\n",
       "duration        object\n",
       "listed_in       object\n",
       "description     object\n",
       "dtype: object"
      ]
     },
     "execution_count": 6,
     "metadata": {},
     "output_type": "execute_result"
    }
   ],
   "source": [
    "df.dtypes"
   ]
  },
  {
   "cell_type": "markdown",
   "id": "926cd370",
   "metadata": {},
   "source": [
    "Các cột dữ liệu đều có kiểu String, chỉ riêng cột release_year là kiểu số nguyên\n",
    "\n",
    "Điều này là bình thường không có dữ liệu không phù hợp\n",
    "\n",
    "Cột date_added có kiểu String, nhưng hiện tại chưa có mục đích xử lý nên không chuyển sang kiểu Datetime\n",
    "\n",
    "Nếu cần sẽ chuyển sang kiểu Datetime trong phần tiền xử lý cho câu hỏi riêng"
   ]
  },
  {
   "cell_type": "markdown",
   "id": "1017c198",
   "metadata": {},
   "source": [
    "### 4. Numerical"
   ]
  },
  {
   "cell_type": "markdown",
   "id": "04a58293",
   "metadata": {},
   "source": [
    "#### Với mỗi cột có kiểu dữ liệu dạng số (numerical), các giá trị được phân bố như thế nào?"
   ]
  },
  {
   "cell_type": "markdown",
   "id": "b960b886",
   "metadata": {},
   "source": [
    "Cột numerical có hai cột *release_year* và cột *date_added*, nên ta sẽ khảo sát hai cột này.\n",
    "\n",
    "Nhưng hiện tại cột *date_added* đang có kiểu dữ liệu là **string** nên ta cần phải chuyển về dưới dạng **datetime** để tiến hành khảo sát"
   ]
  },
  {
   "cell_type": "markdown",
   "id": "3e2762c8",
   "metadata": {},
   "source": [
    "#### Chuyển cột *date_added* về kiểu datetime"
   ]
  },
  {
   "cell_type": "code",
   "execution_count": 7,
   "id": "1fe8cc9f",
   "metadata": {},
   "outputs": [],
   "source": [
    "def convertDateTime(date):\n",
    "    try:\n",
    "        return pd.to_datetime(date,format=\"%B %d, %Y\")\n",
    "    except:\n",
    "        return np.nan\n",
    "date_add = df['date_added'].apply(convertDateTime)\n",
    "df['date_added'] = date_add"
   ]
  },
  {
   "cell_type": "code",
   "execution_count": 8,
   "id": "3f407853",
   "metadata": {},
   "outputs": [],
   "source": [
    "# cột numerical là cột release_year và cột date_added ta sẽ khảo sát hai cột này\n",
    "rls_col = df['release_year']\n",
    "date_add = df['date_added']"
   ]
  },
  {
   "cell_type": "markdown",
   "id": "5495a4f9",
   "metadata": {},
   "source": [
    "#### Số-lượng/tỉ-lệ các giá trị thiếu?"
   ]
  },
  {
   "cell_type": "code",
   "execution_count": 9,
   "id": "d4df0072",
   "metadata": {},
   "outputs": [],
   "source": [
    "n_year_missing = rls_col.isna().sum()# == 0\n",
    "ratio_year_missing = n_year_missing * 100 / len(rls_col) #== 0\n",
    "\n",
    "n_date_missing = date_add.isna().sum()#==98\n",
    "ratio_date_missing = n_date_missing * 100 / len(date_add)#== 1.11275"
   ]
  },
  {
   "cell_type": "markdown",
   "id": "65e87f76",
   "metadata": {},
   "source": [
    "Cột *release_year* **không có** giá trị nào bị thiếu, tỉ lệ giá trị bị thiếu là **0%**\n",
    "\n",
    "Cột *date_added* có **98** giá trị bị thiếu, tỉ lệ giá trị bị thiếu là **1.11275%**"
   ]
  },
  {
   "cell_type": "markdown",
   "id": "6a6732e4",
   "metadata": {},
   "source": [
    "#### Min? max? → Có gì bất thường không?"
   ]
  },
  {
   "cell_type": "code",
   "execution_count": 10,
   "id": "e3b23147",
   "metadata": {},
   "outputs": [],
   "source": [
    "year_earliest = rls_col.min() #1925\n",
    "date_earliest = date_add.min()#Timestamp('2008-01-01 00:00:00')"
   ]
  },
  {
   "cell_type": "code",
   "execution_count": 11,
   "id": "38e8ce6b",
   "metadata": {},
   "outputs": [],
   "source": [
    "year_latest = rls_col.max() #2021\n",
    "date_latest = date_add.max()#Timestamp('2021-09-25 00:00:00')"
   ]
  },
  {
   "cell_type": "code",
   "execution_count": 12,
   "id": "39c71ae6",
   "metadata": {},
   "outputs": [
    {
     "data": {
      "text/plain": [
       "<AxesSubplot:xlabel='release_year'>"
      ]
     },
     "execution_count": 12,
     "metadata": {},
     "output_type": "execute_result"
    },
    {
     "data": {
      "image/png": "[encoded data removed]",
      "text/plain": [
       "<Figure size 432x288 with 1 Axes>"
      ]
     },
     "metadata": {
      "needs_background": "light"
     },
     "output_type": "display_data"
    }
   ],
   "source": [
    "df.groupby(['release_year']).size().plot(marker='o')"
   ]
  },
  {
   "cell_type": "code",
   "execution_count": 13,
   "id": "8f57a0c0",
   "metadata": {},
   "outputs": [
    {
     "data": {
      "text/plain": [
       "release_year\n",
       "1925       1\n",
       "1942       2\n",
       "1943       3\n",
       "1944       3\n",
       "1945       4\n",
       "        ... \n",
       "2017    1032\n",
       "2018    1147\n",
       "2019    1030\n",
       "2020     953\n",
       "2021     592\n",
       "Length: 74, dtype: int64"
      ]
     },
     "execution_count": 13,
     "metadata": {},
     "output_type": "execute_result"
    }
   ],
   "source": [
    "df.groupby(['release_year']).size()"
   ]
  },
  {
   "cell_type": "code",
   "execution_count": 14,
   "id": "bd2566de",
   "metadata": {},
   "outputs": [
    {
     "data": {
      "text/plain": [
       "<AxesSubplot:xlabel='date_added'>"
      ]
     },
     "execution_count": 14,
     "metadata": {},
     "output_type": "execute_result"
    },
    {
     "data": {
      "image/png": "[encoded data removed]",
      "text/plain": [
       "<Figure size 432x288 with 1 Axes>"
      ]
     },
     "metadata": {
      "needs_background": "light"
     },
     "output_type": "display_data"
    }
   ],
   "source": [
    "df.groupby(df['date_added'].dt.year).size().plot(marker='o')"
   ]
  },
  {
   "cell_type": "code",
   "execution_count": 15,
   "id": "dcbb3c28",
   "metadata": {},
   "outputs": [
    {
     "data": {
      "text/plain": [
       "date_added\n",
       "2008.0       2\n",
       "2009.0       2\n",
       "2010.0       1\n",
       "2011.0      13\n",
       "2012.0       3\n",
       "2013.0      10\n",
       "2014.0      23\n",
       "2015.0      73\n",
       "2016.0     418\n",
       "2017.0    1164\n",
       "2018.0    1625\n",
       "2019.0    1999\n",
       "2020.0    1878\n",
       "2021.0    1498\n",
       "dtype: int64"
      ]
     },
     "execution_count": 15,
     "metadata": {},
     "output_type": "execute_result"
    }
   ],
   "source": [
    "df.groupby(df['date_added'].dt.year).size()"
   ]
  },
  {
   "cell_type": "markdown",
   "id": "ecb5d142",
   "metadata": {},
   "source": [
    "Không có gì bất thường.\n",
    "\n",
    "Các giá trị của cột *release_year* được phân bố từ năm 1925 đến năm 2021, các giá trị tập trung với mật độ cao từ năm 2000 đến 2020 và cao nhất là năm 2018 với **1147** bộ phim được sản xuất.\n",
    "\n",
    "Các giá trị của cột *date_added* được phân bố từ ngày 01/01/2008 đến 25/09/2021, cao nhất là vào 2019 với **1999** bộ phim được thêm vào Netflix"
   ]
  },
  {
   "cell_type": "markdown",
   "id": "c4129840",
   "metadata": {},
   "source": [
    "### 5. Categorical"
   ]
  },
  {
   "cell_type": "markdown",
   "id": "85d85be0",
   "metadata": {},
   "source": [
    "#### Với mỗi cột có kiểu dữ liệu dạng phân loại (categorical), các giá trị được phân bố như thế nào?"
   ]
  },
  {
   "cell_type": "code",
   "execution_count": 16,
   "id": "90f4e240",
   "metadata": {},
   "outputs": [],
   "source": [
    "categorical_df = df.drop('release_year', axis=1)\n",
    "categorical_df = categorical_df.drop('date_added', axis = 1)"
   ]
  },
  {
   "cell_type": "markdown",
   "id": "2ea4348a",
   "metadata": {},
   "source": [
    "#### Số lượng các giá trị khác nhau? Show một vài giá trị → Có gì bất thường không?"
   ]
  },
  {
   "cell_type": "code",
   "execution_count": 17,
   "id": "2e827b4b",
   "metadata": {},
   "outputs": [
    {
     "data": {
      "text/html": [
       "<div>\n",
       "<style scoped>\n",
       "    .dataframe tbody tr th:only-of-type {\n",
       "        vertical-align: middle;\n",
       "    }\n",
       "\n",
       "    .dataframe tbody tr th {\n",
       "        vertical-align: top;\n",
       "    }\n",
       "\n",
       "    .dataframe thead th {\n",
       "        text-align: right;\n",
       "    }\n",
       "</style>\n",
       "<table border=\"1\" class=\"dataframe\">\n",
       "  <thead>\n",
       "    <tr style=\"text-align: right;\">\n",
       "      <th></th>\n",
       "      <th>show_id</th>\n",
       "      <th>type</th>\n",
       "      <th>title</th>\n",
       "      <th>director</th>\n",
       "      <th>cast</th>\n",
       "      <th>country</th>\n",
       "      <th>rating</th>\n",
       "      <th>duration</th>\n",
       "      <th>listed_in</th>\n",
       "      <th>description</th>\n",
       "    </tr>\n",
       "  </thead>\n",
       "  <tbody>\n",
       "    <tr>\n",
       "      <th>nunique</th>\n",
       "      <td>8807</td>\n",
       "      <td>2</td>\n",
       "      <td>8807</td>\n",
       "      <td>4528</td>\n",
       "      <td>7692</td>\n",
       "      <td>748</td>\n",
       "      <td>17</td>\n",
       "      <td>220</td>\n",
       "      <td>514</td>\n",
       "      <td>8775</td>\n",
       "    </tr>\n",
       "    <tr>\n",
       "      <th>unique</th>\n",
       "      <td>[s1, s2, s3, s4, s5, s6, s7, s8, s9, s10, s11,...</td>\n",
       "      <td>[Movie, TV Show]</td>\n",
       "      <td>[Dick Johnson Is Dead, Blood &amp; Water, Gangland...</td>\n",
       "      <td>[Kirsten Johnson, nan, Julien Leclercq, Mike F...</td>\n",
       "      <td>[nan, Ama Qamata, Khosi Ngema, Gail Mabalane, ...</td>\n",
       "      <td>[United States, South Africa, nan, India, Unit...</td>\n",
       "      <td>[PG-13, TV-MA, PG, TV-14, TV-PG, TV-Y, TV-Y7, ...</td>\n",
       "      <td>[90 min, 2 Seasons, 1 Season, 91 min, 125 min,...</td>\n",
       "      <td>[Documentaries, International TV Shows, TV Dra...</td>\n",
       "      <td>[As her father nears the end of his life, film...</td>\n",
       "    </tr>\n",
       "  </tbody>\n",
       "</table>\n",
       "</div>"
      ],
      "text/plain": [
       "                                                   show_id              type  \\\n",
       "nunique                                               8807                 2   \n",
       "unique   [s1, s2, s3, s4, s5, s6, s7, s8, s9, s10, s11,...  [Movie, TV Show]   \n",
       "\n",
       "                                                     title  \\\n",
       "nunique                                               8807   \n",
       "unique   [Dick Johnson Is Dead, Blood & Water, Gangland...   \n",
       "\n",
       "                                                  director  \\\n",
       "nunique                                               4528   \n",
       "unique   [Kirsten Johnson, nan, Julien Leclercq, Mike F...   \n",
       "\n",
       "                                                      cast  \\\n",
       "nunique                                               7692   \n",
       "unique   [nan, Ama Qamata, Khosi Ngema, Gail Mabalane, ...   \n",
       "\n",
       "                                                   country  \\\n",
       "nunique                                                748   \n",
       "unique   [United States, South Africa, nan, India, Unit...   \n",
       "\n",
       "                                                    rating  \\\n",
       "nunique                                                 17   \n",
       "unique   [PG-13, TV-MA, PG, TV-14, TV-PG, TV-Y, TV-Y7, ...   \n",
       "\n",
       "                                                  duration  \\\n",
       "nunique                                                220   \n",
       "unique   [90 min, 2 Seasons, 1 Season, 91 min, 125 min,...   \n",
       "\n",
       "                                                 listed_in  \\\n",
       "nunique                                                514   \n",
       "unique   [Documentaries, International TV Shows, TV Dra...   \n",
       "\n",
       "                                               description  \n",
       "nunique                                               8775  \n",
       "unique   [As her father nears the end of his life, film...  "
      ]
     },
     "execution_count": 17,
     "metadata": {},
     "output_type": "execute_result"
    }
   ],
   "source": [
    "categorical_df.agg([pd.Series.nunique, pd.Series.unique])"
   ]
  },
  {
   "cell_type": "markdown",
   "id": "fc952c50",
   "metadata": {},
   "source": [
    "Kết luận: không có gì bất thường \n",
    "\n",
    "    vì có đúng 8807 giá trị id khác nhau, có 2 loại phim là Movie và TV Show, \n",
    "    các cột còn lại không có cột số lượng unique vượt số dòng thực\n",
    "\n",
    "    tuy nhiên, cột description bị thiếu giá trị ở một vài dòng\n",
    "    cột director, cast, country, rating, duration có nhiều giá trị trùng nhau, hoặc bị khuyết"
   ]
  },
  {
   "cell_type": "markdown",
   "id": "3c4d51c8",
   "metadata": {},
   "source": [
    "#### Số giá trị bị thiếu và tỉ lệ giá trị bị thiếu"
   ]
  },
  {
   "cell_type": "code",
   "execution_count": 18,
   "id": "818d9b9b",
   "metadata": {},
   "outputs": [],
   "source": [
    "categorical_missing_value = categorical_df.agg([pd.Series.isna], axis=1).sum()\n",
    "categorical_missing_ratio = categorical_missing_value * 100 / n_rows"
   ]
  },
  {
   "cell_type": "code",
   "execution_count": 19,
   "id": "cb13b09f",
   "metadata": {},
   "outputs": [
    {
     "data": {
      "text/plain": [
       "show_id           0\n",
       "type              0\n",
       "title             0\n",
       "director       2634\n",
       "cast            825\n",
       "country         831\n",
       "rating            4\n",
       "duration          3\n",
       "listed_in         0\n",
       "description       0\n",
       "dtype: int64"
      ]
     },
     "execution_count": 19,
     "metadata": {},
     "output_type": "execute_result"
    }
   ],
   "source": [
    "categorical_missing_value"
   ]
  },
  {
   "cell_type": "code",
   "execution_count": 20,
   "id": "ad6fe580",
   "metadata": {},
   "outputs": [
    {
     "data": {
      "text/plain": [
       "show_id         0.000000\n",
       "type            0.000000\n",
       "title           0.000000\n",
       "director       29.908028\n",
       "cast            9.367549\n",
       "country         9.435676\n",
       "rating          0.045418\n",
       "duration        0.034064\n",
       "listed_in       0.000000\n",
       "description     0.000000\n",
       "dtype: float64"
      ]
     },
     "execution_count": 20,
     "metadata": {},
     "output_type": "execute_result"
    }
   ],
   "source": [
    "categorical_missing_ratio"
   ]
  },
  {
   "cell_type": "markdown",
   "id": "8cbc7320",
   "metadata": {},
   "source": [
    "Những cột có giá trị thiếu là *director, cast, country, rating, duration*, tỉ lệ giá trị bị thiếu đạt cao ở cột *director* với tỉ lệ **29.908028%**, các cột *show_id, type, title, listed_in, description* không có giá trị nào bị mất."
   ]
  },
  {
   "cell_type": "markdown",
   "id": "8ae380ce",
   "metadata": {},
   "source": [
    "# III. Đưa ra câu hỏi để trả lời"
   ]
  },
  {
   "cell_type": "markdown",
   "id": "ff76fb7f",
   "metadata": {},
   "source": [
    "## 1. Đề xuất phim tương tự dựa trên diễn viên của phim đó"
   ]
  },
  {
   "cell_type": "markdown",
   "id": "c514ceea",
   "metadata": {},
   "source": [
    "---"
   ]
  },
  {
   "cell_type": "markdown",
   "id": "5dfad59d",
   "metadata": {},
   "source": [
    "Ứng dụng 1: Cho tên phim + dàn diễn viên -> đề xuất phim tương tự\n",
    "    \n",
    "    Nó sẽ lợi hơn việc tìm kiếm đơn thuần (tìm phim có 1 diễn viên A đóng) ở các điểm:\n",
    "    \n",
    "    Lợi ích 1: Đề xuất này dựa trên độ tương tự trên nhiều diễn viên, khả năng liên quan cao hơn. Tìm kiếm đơn thuần chỉ đưa ra những bộ phim có cùng người đóng, hạn chế vì mỗi phim diễn viên sẽ khác nhau, khó tìm). Mặt khác, cho máy tính làm, không phải tìm bằng mắt.\n",
    "    \n",
    "    Lợi ích 2: Chọn ra top 5 phim có độ liên quan cao nhất, thay vì nhận 1 list kết quả từ tìm kiếm đơn thuần\n",
    "    \n",
    "    Lợi ích 3: Có lợi cho nền tảng chiếu phim, giữ được người dùng trên nền tảng mình lâu hơn vì toàn đề xuất phim mà người dùng thích xem, có người xem phim vì thích có 1/1 nhóm diễn viên đó tham gia. Có lợi cho người xem vì được đễ xuất tốt hơn thay vì tự tìm kiếm trong CSDL lớn"
   ]
  },
  {
   "cell_type": "markdown",
   "id": "6e8922f7",
   "metadata": {},
   "source": [
    "### 1.1 Tiền xử lý"
   ]
  },
  {
   "cell_type": "markdown",
   "id": "26ddc953",
   "metadata": {},
   "source": [
    "Tiền xử lý có 2 công việc đơn giản:\n",
    "\n",
    "B1: Dùng copy() để làm việc riêng trên dataframe copy dfa1\n",
    "\n",
    "B2: Điền các dòng NaN của cột cast bằng \" \" (khoảng trắng)\n"
   ]
  },
  {
   "cell_type": "code",
   "execution_count": 21,
   "id": "2a39a4ca",
   "metadata": {
    "scrolled": true
   },
   "outputs": [
    {
     "data": {
      "text/plain": [
       "0                                                     \n",
       "1    Ama Qamata, Khosi Ngema, Gail Mabalane, Thaban...\n",
       "2    Sami Bouajila, Tracy Gotoas, Samuel Jouy, Nabi...\n",
       "3                                                     \n",
       "4    Mayur More, Jitendra Kumar, Ranjan Raj, Alam K...\n",
       "Name: cast, dtype: object"
      ]
     },
     "execution_count": 21,
     "metadata": {},
     "output_type": "execute_result"
    }
   ],
   "source": [
    "dfa1 = df.copy() #handleon copy first\n",
    "\n",
    "#Are there NaN values in Cast columns? If there are, filling the space \" \" instead NaN\n",
    "dfa1[\"cast\"].isna().sum()\n",
    "dfa1[\"cast\"] = dfa1[\"cast\"].fillna(\" \")\n",
    "dfa1[\"cast\"].head(5)\n"
   ]
  },
  {
   "cell_type": "markdown",
   "id": "58f79fde",
   "metadata": {},
   "source": [
    "---"
   ]
  },
  {
   "cell_type": "markdown",
   "id": "bea85782",
   "metadata": {},
   "source": [
    "### 1.2 Phân tích dữ liệu để trả lời"
   ]
  },
  {
   "cell_type": "markdown",
   "id": "c142d317",
   "metadata": {},
   "source": [
    "### 1.2.a Mô tả cách làm"
   ]
  },
  {
   "cell_type": "markdown",
   "id": "375b54c9",
   "metadata": {},
   "source": [
    "#RUN FIRST\n",
    "\n",
    "B1: Đầu tiên cài đặt các hàm công cụ và chuẩn bị dữ liệu    \n",
    "    \n",
    "B2: Ta tính ma trận độ tương tự và ma trận khoảng cách cho 1 dòng, so với các dòng còn lại trong DF\n",
    "\n",
    "    Độ tương tự = số diễn viên giống nhau giữa 1 dòng và các dòng còn lại trong DF\n",
    "\n",
    "    Giả định cột diễn viên có không quá 100 phần tử 1 dòng\n",
    "    \n",
    "    Điểm khoảng cách = 100 - Độ tương tự\n",
    "    \n",
    "B3: Lấy ra top 5 phim có điểm khoảng cách thấp nhất (tương tự nhất)\n",
    "\n",
    "    Sử dụng hàm argsort để lấy ra chỉ số vị trí luôn\n",
    "    \n",
    "    APPLY ON DATA\n",
    "        \n",
    "        Sau khi code được hàm xử lý với 1 dòng\n",
    "\n",
    "        Apply trên pd.Series bằng apply()\n",
    "\n",
    "B4: Nối cột mới vào DF\n",
    "\n",
    "    "
   ]
  },
  {
   "cell_type": "markdown",
   "id": "bdea7a56",
   "metadata": {},
   "source": [
    "#Để TỐI ƯU tốc độ hơn, mình sẽ làm 3 việc\n",
    "\n",
    "Việc 1: Tách hàm\n",
    "\n",
    "    Tách hàm tính array length riêng, còn hàm suggestFilmOnCast chỉ nhận arraylen rồi trả về film thôi\n",
    "    Nghĩa là có thể dùng theo kiểu khi nào người dùng xem phim nào thì mới tính riêng cho phim đó,\n",
    "    và có thể tính 1 phần chứ không toàn bộ\n",
    "\n",
    "Việc 2: Dòng nào trống, thì mình skip, vì tính độ tương tự là vô nghĩa\n",
    "    \n",
    "    dummy handle: thay vì bỏ trống, mình lấy 5 bộ phim đầu tiên trong dataframe\n",
    "    một cách xử lý khác, là kết hợp với các lựa chọn recommend khác nữa (đạo diễn, ratings,..)\n",
    "    \n",
    "Việc 3: Rút bớt các hàm tính toán ra 1 mục là chuẩn bị dự liệu để tránh việc tính toán bị lặp lại\n",
    "    \n",
    "    Đã kiểm nghiệm, tốc độ khi APPLY ON DATA tăng đáng kể vì rút bớt các hàm apply trên toàn bộ dữ liệu\n",
    "    --- 34.65652775764465 seconds --- (dưới 1 phút) so với\n",
    "    --- 150.8246557712555 seconds --- (2 phút rưỡi) khi thay data_in_set bằng data0.apply(set).values\n",
    "    \n",
    "#GIẢ ĐỊNH\n",
    "\n",
    "Giả định 1\n",
    "\n",
    "    Việc dùng set để loại bỏ duplicate, nên sẽ có 1 số dòng, có ít hơn 5 bộ phim\n",
    "    Giả định này có thể chấp nhận được, vì không còn phim tương tự trong dữ liệu, giải quyết như Việc 2 ở trên\n",
    "Giả định 2\n",
    "\n",
    "    Do đã tiền xử lý, với mỗi dòng s trong df['cast'] chỉ kiểm tra s == ' ' thôi\n",
    "Giả định 3\n",
    "\n",
    "    Cột diễn viên có không quá 100 phần tử 1 dòng\n"
   ]
  },
  {
   "cell_type": "markdown",
   "id": "371225b6",
   "metadata": {},
   "source": [
    "### 1.2.b Cài đặt"
   ]
  },
  {
   "cell_type": "markdown",
   "id": "57109103",
   "metadata": {},
   "source": [
    "## B1: Cài đặt các hàm công cụ và chuẩn bị dữ liệu"
   ]
  },
  {
   "cell_type": "code",
   "execution_count": 22,
   "id": "0b628378",
   "metadata": {},
   "outputs": [],
   "source": [
    "def calc_distance(s):\n",
    "    return 100 - len(s)\n",
    "\n",
    "# Set up for suggestFilmOnCast, this helps avoid duplicated calculations\n",
    "data0 = dfa1['cast'].str.split(',')\n",
    "data_in_set = data0.apply(set).values\n",
    "length_checker = np.vectorize(calc_distance)\n",
    "film_names = dfa1['title']\n",
    "first_5_films = set(film_names.values[:5])"
   ]
  },
  {
   "cell_type": "markdown",
   "id": "6407cc5b",
   "metadata": {},
   "source": [
    "## B2: Tính ma trận độ tương tự và ma trận khoảng cách cho dữ liệu"
   ]
  },
  {
   "cell_type": "code",
   "execution_count": 23,
   "id": "9121d4f2",
   "metadata": {},
   "outputs": [],
   "source": [
    "def calc_similarity_arr(s):\n",
    "    #for optimizing\n",
    "    if s == ' ':        #if string is empty\n",
    "        return []\n",
    "    \n",
    "    list1 = s.split(',')\n",
    "    \n",
    "    #find intersection between list1 and whole data using broadcast\n",
    "    #return the names exist in both 2 list\n",
    "    commonNames = set(list1) & data_in_set\n",
    "    \n",
    "    #return the count on each row of 'res'\n",
    "    arr_len = length_checker(commonNames)\n",
    "    \n",
    "    return arr_len"
   ]
  },
  {
   "cell_type": "markdown",
   "id": "a087d5e8",
   "metadata": {},
   "source": [
    "Áp dụng lên toàn bộ dữ liệu, kết hợp hàm time() để đo thời gian chạy"
   ]
  },
  {
   "cell_type": "code",
   "execution_count": 24,
   "id": "4b00aa69",
   "metadata": {},
   "outputs": [
    {
     "name": "stdout",
     "output_type": "stream",
     "text": [
      "--- 37.01926302909851 seconds ---\n"
     ]
    }
   ],
   "source": [
    "start_time = time.time()\n",
    "\n",
    "sim_arr = dfa1['cast'].apply(calc_similarity_arr)\n",
    "\n",
    "print(\"--- %s seconds ---\" % (time.time() - start_time))"
   ]
  },
  {
   "cell_type": "markdown",
   "id": "78294628",
   "metadata": {},
   "source": [
    "## B3: Truy ra tên phim từ ma trận độ tương tự"
   ]
  },
  {
   "cell_type": "code",
   "execution_count": 25,
   "id": "bd25108f",
   "metadata": {},
   "outputs": [],
   "source": [
    "def suggestFilmOnCast(arr_len):\n",
    "    #for optimizing\n",
    "    if len(arr_len)==0:   #if array is empty\n",
    "        return first_5_films\n",
    "    \n",
    "    #return top 5 names with the highest similarity\n",
    "    res_of_name = film_names.values[arr_len[arr_len.argsort()[:5]]]\n",
    "    \n",
    "    #remove duplicated name\n",
    "    final_res = set(res_of_name)\n",
    "    return final_res\n"
   ]
  },
  {
   "cell_type": "markdown",
   "id": "ae09fa45",
   "metadata": {},
   "source": [
    "Kiểm tra thử 1 dòng"
   ]
  },
  {
   "cell_type": "code",
   "execution_count": 26,
   "id": "80cf8034",
   "metadata": {
    "scrolled": true
   },
   "outputs": [
    {
     "data": {
      "text/plain": [
       "{'Blood & Water',\n",
       " 'Dick Johnson Is Dead',\n",
       " 'Ganglands',\n",
       " 'Jailbirds New Orleans',\n",
       " 'Kota Factory'}"
      ]
     },
     "execution_count": 26,
     "metadata": {},
     "output_type": "execute_result"
    }
   ],
   "source": [
    "suggestFilmOnCast(calc_similarity_arr(dfa1['cast'].iloc[0]))"
   ]
  },
  {
   "cell_type": "markdown",
   "id": "9533c2be",
   "metadata": {},
   "source": [
    "Áp dụng cho dữ liệu"
   ]
  },
  {
   "cell_type": "code",
   "execution_count": 27,
   "id": "5472f0f1",
   "metadata": {},
   "outputs": [
    {
     "data": {
      "text/plain": [
       "0       {Ganglands, Dick Johnson Is Dead, Blood & Wate...\n",
       "1           {Tobot Galaxy Detectives, Kate, On the Verge}\n",
       "2       {The Women and the Murderer, On the Verge, Oct...\n",
       "3       {Ganglands, Dick Johnson Is Dead, Blood & Wate...\n",
       "4                          {On the Verge, Into the Night}\n",
       "                              ...                        \n",
       "8802    {Paradise Hills, On the Verge, Octonauts: Abov...\n",
       "8803    {Ganglands, Dick Johnson Is Dead, Blood & Wate...\n",
       "8804                                 {On the Verge, JJ+E}\n",
       "8805           {The Women and the Murderer, On the Verge}\n",
       "8806                       {On the Verge, Into the Night}\n",
       "Name: cast, Length: 8807, dtype: object"
      ]
     },
     "execution_count": 27,
     "metadata": {},
     "output_type": "execute_result"
    }
   ],
   "source": [
    "suggest_arr = sim_arr.apply(suggestFilmOnCast)\n",
    "suggest_arr"
   ]
  },
  {
   "cell_type": "markdown",
   "id": "bce63210",
   "metadata": {},
   "source": [
    "## B4: Thêm 1 cột mới vào DF, là cột SuggestOnCast"
   ]
  },
  {
   "cell_type": "code",
   "execution_count": 28,
   "id": "5829bd03",
   "metadata": {},
   "outputs": [
    {
     "data": {
      "text/html": [
       "<div>\n",
       "<style scoped>\n",
       "    .dataframe tbody tr th:only-of-type {\n",
       "        vertical-align: middle;\n",
       "    }\n",
       "\n",
       "    .dataframe tbody tr th {\n",
       "        vertical-align: top;\n",
       "    }\n",
       "\n",
       "    .dataframe thead th {\n",
       "        text-align: right;\n",
       "    }\n",
       "</style>\n",
       "<table border=\"1\" class=\"dataframe\">\n",
       "  <thead>\n",
       "    <tr style=\"text-align: right;\">\n",
       "      <th></th>\n",
       "      <th>show_id</th>\n",
       "      <th>type</th>\n",
       "      <th>title</th>\n",
       "      <th>director</th>\n",
       "      <th>cast</th>\n",
       "      <th>country</th>\n",
       "      <th>date_added</th>\n",
       "      <th>release_year</th>\n",
       "      <th>rating</th>\n",
       "      <th>duration</th>\n",
       "      <th>listed_in</th>\n",
       "      <th>description</th>\n",
       "      <th>SuggestOnCast</th>\n",
       "    </tr>\n",
       "  </thead>\n",
       "  <tbody>\n",
       "    <tr>\n",
       "      <th>0</th>\n",
       "      <td>s1</td>\n",
       "      <td>Movie</td>\n",
       "      <td>Dick Johnson Is Dead</td>\n",
       "      <td>Kirsten Johnson</td>\n",
       "      <td></td>\n",
       "      <td>United States</td>\n",
       "      <td>2021-09-25</td>\n",
       "      <td>2020</td>\n",
       "      <td>PG-13</td>\n",
       "      <td>90 min</td>\n",
       "      <td>Documentaries</td>\n",
       "      <td>As her father nears the end of his life, filmm...</td>\n",
       "      <td>{Ganglands, Dick Johnson Is Dead, Blood &amp; Wate...</td>\n",
       "    </tr>\n",
       "    <tr>\n",
       "      <th>1</th>\n",
       "      <td>s2</td>\n",
       "      <td>TV Show</td>\n",
       "      <td>Blood &amp; Water</td>\n",
       "      <td>NaN</td>\n",
       "      <td>Ama Qamata, Khosi Ngema, Gail Mabalane, Thaban...</td>\n",
       "      <td>South Africa</td>\n",
       "      <td>2021-09-24</td>\n",
       "      <td>2021</td>\n",
       "      <td>TV-MA</td>\n",
       "      <td>2 Seasons</td>\n",
       "      <td>International TV Shows, TV Dramas, TV Mysteries</td>\n",
       "      <td>After crossing paths at a party, a Cape Town t...</td>\n",
       "      <td>{Tobot Galaxy Detectives, Kate, On the Verge}</td>\n",
       "    </tr>\n",
       "    <tr>\n",
       "      <th>2</th>\n",
       "      <td>s3</td>\n",
       "      <td>TV Show</td>\n",
       "      <td>Ganglands</td>\n",
       "      <td>Julien Leclercq</td>\n",
       "      <td>Sami Bouajila, Tracy Gotoas, Samuel Jouy, Nabi...</td>\n",
       "      <td>NaN</td>\n",
       "      <td>2021-09-24</td>\n",
       "      <td>2021</td>\n",
       "      <td>TV-MA</td>\n",
       "      <td>1 Season</td>\n",
       "      <td>Crime TV Shows, International TV Shows, TV Act...</td>\n",
       "      <td>To protect his family from a powerful drug lor...</td>\n",
       "      <td>{The Women and the Murderer, On the Verge, Oct...</td>\n",
       "    </tr>\n",
       "    <tr>\n",
       "      <th>3</th>\n",
       "      <td>s4</td>\n",
       "      <td>TV Show</td>\n",
       "      <td>Jailbirds New Orleans</td>\n",
       "      <td>NaN</td>\n",
       "      <td></td>\n",
       "      <td>NaN</td>\n",
       "      <td>2021-09-24</td>\n",
       "      <td>2021</td>\n",
       "      <td>TV-MA</td>\n",
       "      <td>1 Season</td>\n",
       "      <td>Docuseries, Reality TV</td>\n",
       "      <td>Feuds, flirtations and toilet talk go down amo...</td>\n",
       "      <td>{Ganglands, Dick Johnson Is Dead, Blood &amp; Wate...</td>\n",
       "    </tr>\n",
       "    <tr>\n",
       "      <th>4</th>\n",
       "      <td>s5</td>\n",
       "      <td>TV Show</td>\n",
       "      <td>Kota Factory</td>\n",
       "      <td>NaN</td>\n",
       "      <td>Mayur More, Jitendra Kumar, Ranjan Raj, Alam K...</td>\n",
       "      <td>India</td>\n",
       "      <td>2021-09-24</td>\n",
       "      <td>2021</td>\n",
       "      <td>TV-MA</td>\n",
       "      <td>2 Seasons</td>\n",
       "      <td>International TV Shows, Romantic TV Shows, TV ...</td>\n",
       "      <td>In a city of coaching centers known to train I...</td>\n",
       "      <td>{On the Verge, Into the Night}</td>\n",
       "    </tr>\n",
       "    <tr>\n",
       "      <th>...</th>\n",
       "      <td>...</td>\n",
       "      <td>...</td>\n",
       "      <td>...</td>\n",
       "      <td>...</td>\n",
       "      <td>...</td>\n",
       "      <td>...</td>\n",
       "      <td>...</td>\n",
       "      <td>...</td>\n",
       "      <td>...</td>\n",
       "      <td>...</td>\n",
       "      <td>...</td>\n",
       "      <td>...</td>\n",
       "      <td>...</td>\n",
       "    </tr>\n",
       "    <tr>\n",
       "      <th>8802</th>\n",
       "      <td>s8803</td>\n",
       "      <td>Movie</td>\n",
       "      <td>Zodiac</td>\n",
       "      <td>David Fincher</td>\n",
       "      <td>Mark Ruffalo, Jake Gyllenhaal, Robert Downey J...</td>\n",
       "      <td>United States</td>\n",
       "      <td>2019-11-20</td>\n",
       "      <td>2007</td>\n",
       "      <td>R</td>\n",
       "      <td>158 min</td>\n",
       "      <td>Cult Movies, Dramas, Thrillers</td>\n",
       "      <td>A political cartoonist, a crime reporter and a...</td>\n",
       "      <td>{Paradise Hills, On the Verge, Octonauts: Abov...</td>\n",
       "    </tr>\n",
       "    <tr>\n",
       "      <th>8803</th>\n",
       "      <td>s8804</td>\n",
       "      <td>TV Show</td>\n",
       "      <td>Zombie Dumb</td>\n",
       "      <td>NaN</td>\n",
       "      <td></td>\n",
       "      <td>NaN</td>\n",
       "      <td>2019-07-01</td>\n",
       "      <td>2018</td>\n",
       "      <td>TV-Y7</td>\n",
       "      <td>2 Seasons</td>\n",
       "      <td>Kids' TV, Korean TV Shows, TV Comedies</td>\n",
       "      <td>While living alone in a spooky town, a young g...</td>\n",
       "      <td>{Ganglands, Dick Johnson Is Dead, Blood &amp; Wate...</td>\n",
       "    </tr>\n",
       "    <tr>\n",
       "      <th>8804</th>\n",
       "      <td>s8805</td>\n",
       "      <td>Movie</td>\n",
       "      <td>Zombieland</td>\n",
       "      <td>Ruben Fleischer</td>\n",
       "      <td>Jesse Eisenberg, Woody Harrelson, Emma Stone, ...</td>\n",
       "      <td>United States</td>\n",
       "      <td>2019-11-01</td>\n",
       "      <td>2009</td>\n",
       "      <td>R</td>\n",
       "      <td>88 min</td>\n",
       "      <td>Comedies, Horror Movies</td>\n",
       "      <td>Looking to survive in a world taken over by zo...</td>\n",
       "      <td>{On the Verge, JJ+E}</td>\n",
       "    </tr>\n",
       "    <tr>\n",
       "      <th>8805</th>\n",
       "      <td>s8806</td>\n",
       "      <td>Movie</td>\n",
       "      <td>Zoom</td>\n",
       "      <td>Peter Hewitt</td>\n",
       "      <td>Tim Allen, Courteney Cox, Chevy Chase, Kate Ma...</td>\n",
       "      <td>United States</td>\n",
       "      <td>2020-01-11</td>\n",
       "      <td>2006</td>\n",
       "      <td>PG</td>\n",
       "      <td>88 min</td>\n",
       "      <td>Children &amp; Family Movies, Comedies</td>\n",
       "      <td>Dragged from civilian life, a former superhero...</td>\n",
       "      <td>{The Women and the Murderer, On the Verge}</td>\n",
       "    </tr>\n",
       "    <tr>\n",
       "      <th>8806</th>\n",
       "      <td>s8807</td>\n",
       "      <td>Movie</td>\n",
       "      <td>Zubaan</td>\n",
       "      <td>Mozez Singh</td>\n",
       "      <td>Vicky Kaushal, Sarah-Jane Dias, Raaghav Chanan...</td>\n",
       "      <td>India</td>\n",
       "      <td>2019-03-02</td>\n",
       "      <td>2015</td>\n",
       "      <td>TV-14</td>\n",
       "      <td>111 min</td>\n",
       "      <td>Dramas, International Movies, Music &amp; Musicals</td>\n",
       "      <td>A scrappy but poor boy worms his way into a ty...</td>\n",
       "      <td>{On the Verge, Into the Night}</td>\n",
       "    </tr>\n",
       "  </tbody>\n",
       "</table>\n",
       "<p>8807 rows × 13 columns</p>\n",
       "</div>"
      ],
      "text/plain": [
       "     show_id     type                  title         director  \\\n",
       "0         s1    Movie   Dick Johnson Is Dead  Kirsten Johnson   \n",
       "1         s2  TV Show          Blood & Water              NaN   \n",
       "2         s3  TV Show              Ganglands  Julien Leclercq   \n",
       "3         s4  TV Show  Jailbirds New Orleans              NaN   \n",
       "4         s5  TV Show           Kota Factory              NaN   \n",
       "...      ...      ...                    ...              ...   \n",
       "8802   s8803    Movie                 Zodiac    David Fincher   \n",
       "8803   s8804  TV Show            Zombie Dumb              NaN   \n",
       "8804   s8805    Movie             Zombieland  Ruben Fleischer   \n",
       "8805   s8806    Movie                   Zoom     Peter Hewitt   \n",
       "8806   s8807    Movie                 Zubaan      Mozez Singh   \n",
       "\n",
       "                                                   cast        country  \\\n",
       "0                                                        United States   \n",
       "1     Ama Qamata, Khosi Ngema, Gail Mabalane, Thaban...   South Africa   \n",
       "2     Sami Bouajila, Tracy Gotoas, Samuel Jouy, Nabi...            NaN   \n",
       "3                                                                  NaN   \n",
       "4     Mayur More, Jitendra Kumar, Ranjan Raj, Alam K...          India   \n",
       "...                                                 ...            ...   \n",
       "8802  Mark Ruffalo, Jake Gyllenhaal, Robert Downey J...  United States   \n",
       "8803                                                               NaN   \n",
       "8804  Jesse Eisenberg, Woody Harrelson, Emma Stone, ...  United States   \n",
       "8805  Tim Allen, Courteney Cox, Chevy Chase, Kate Ma...  United States   \n",
       "8806  Vicky Kaushal, Sarah-Jane Dias, Raaghav Chanan...          India   \n",
       "\n",
       "     date_added  release_year rating   duration  \\\n",
       "0    2021-09-25          2020  PG-13     90 min   \n",
       "1    2021-09-24          2021  TV-MA  2 Seasons   \n",
       "2    2021-09-24          2021  TV-MA   1 Season   \n",
       "3    2021-09-24          2021  TV-MA   1 Season   \n",
       "4    2021-09-24          2021  TV-MA  2 Seasons   \n",
       "...         ...           ...    ...        ...   \n",
       "8802 2019-11-20          2007      R    158 min   \n",
       "8803 2019-07-01          2018  TV-Y7  2 Seasons   \n",
       "8804 2019-11-01          2009      R     88 min   \n",
       "8805 2020-01-11          2006     PG     88 min   \n",
       "8806 2019-03-02          2015  TV-14    111 min   \n",
       "\n",
       "                                              listed_in  \\\n",
       "0                                         Documentaries   \n",
       "1       International TV Shows, TV Dramas, TV Mysteries   \n",
       "2     Crime TV Shows, International TV Shows, TV Act...   \n",
       "3                                Docuseries, Reality TV   \n",
       "4     International TV Shows, Romantic TV Shows, TV ...   \n",
       "...                                                 ...   \n",
       "8802                     Cult Movies, Dramas, Thrillers   \n",
       "8803             Kids' TV, Korean TV Shows, TV Comedies   \n",
       "8804                            Comedies, Horror Movies   \n",
       "8805                 Children & Family Movies, Comedies   \n",
       "8806     Dramas, International Movies, Music & Musicals   \n",
       "\n",
       "                                            description  \\\n",
       "0     As her father nears the end of his life, filmm...   \n",
       "1     After crossing paths at a party, a Cape Town t...   \n",
       "2     To protect his family from a powerful drug lor...   \n",
       "3     Feuds, flirtations and toilet talk go down amo...   \n",
       "4     In a city of coaching centers known to train I...   \n",
       "...                                                 ...   \n",
       "8802  A political cartoonist, a crime reporter and a...   \n",
       "8803  While living alone in a spooky town, a young g...   \n",
       "8804  Looking to survive in a world taken over by zo...   \n",
       "8805  Dragged from civilian life, a former superhero...   \n",
       "8806  A scrappy but poor boy worms his way into a ty...   \n",
       "\n",
       "                                          SuggestOnCast  \n",
       "0     {Ganglands, Dick Johnson Is Dead, Blood & Wate...  \n",
       "1         {Tobot Galaxy Detectives, Kate, On the Verge}  \n",
       "2     {The Women and the Murderer, On the Verge, Oct...  \n",
       "3     {Ganglands, Dick Johnson Is Dead, Blood & Wate...  \n",
       "4                        {On the Verge, Into the Night}  \n",
       "...                                                 ...  \n",
       "8802  {Paradise Hills, On the Verge, Octonauts: Abov...  \n",
       "8803  {Ganglands, Dick Johnson Is Dead, Blood & Wate...  \n",
       "8804                               {On the Verge, JJ+E}  \n",
       "8805         {The Women and the Murderer, On the Verge}  \n",
       "8806                     {On the Verge, Into the Night}  \n",
       "\n",
       "[8807 rows x 13 columns]"
      ]
     },
     "execution_count": 28,
     "metadata": {},
     "output_type": "execute_result"
    }
   ],
   "source": [
    "pre_merge_col = suggest_arr.to_frame()\n",
    "pre_merge_col = pre_merge_col.rename(columns = {'cast':'SuggestOnCast'})\n",
    "pd.concat([dfa1, pre_merge_col], axis = 1)"
   ]
  }
 ],
 "metadata": {
  "kernelspec": {
   "display_name": "Python 3 (ipykernel)",
   "language": "python",
   "name": "python3"
  },
  "language_info": {
   "codemirror_mode": {
    "name": "ipython",
    "version": 3
   },
   "file_extension": ".py",
   "mimetype": "text/x-python",
   "name": "python",
   "nbconvert_exporter": "python",
   "pygments_lexer": "ipython3",
   "version": "3.8.8"
  }
 },
 "nbformat": 4,
 "nbformat_minor": 5
}
