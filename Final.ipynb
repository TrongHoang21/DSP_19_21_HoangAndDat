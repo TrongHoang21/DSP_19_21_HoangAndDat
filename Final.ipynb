{
 "cells": [
  {
   "cell_type": "markdown",
   "id": "dfabc7fa",
   "metadata": {},
   "source": [
    "# Final Project\n",
    "\n",
    "**Họ và tên thành viên 1:** Trần Tuấn Đạt\n",
    "\n",
    "**MSSV:** 18120313\n",
    "\n",
    "**Họ và tên thành viên 2:** Bùi Trọng Hoàng\n",
    "\n",
    "**MSSV:** 18120537"
   ]
  },
  {
   "cell_type": "markdown",
   "id": "8a1f3865",
   "metadata": {},
   "source": [
    "---"
   ]
  },
  {
   "cell_type": "markdown",
   "id": "08676ac4",
   "metadata": {},
   "source": [
    "## Import các thư viện cần thiết"
   ]
  },
  {
   "cell_type": "code",
   "execution_count": 1,
   "id": "d0244f71",
   "metadata": {},
   "outputs": [],
   "source": [
    "import pandas as ps\n",
    "import numpy as np"
   ]
  },
  {
   "cell_type": "markdown",
   "id": "00976678",
   "metadata": {},
   "source": [
    "---"
   ]
  },
  {
   "cell_type": "markdown",
   "id": "0cbecec5",
   "metadata": {},
   "source": [
    "## Thu thập dữ liệu"
   ]
  },
  {
   "cell_type": "markdown",
   "id": "30f45ebe",
   "metadata": {},
   "source": [
    "Trong bài này, ta chỉ đươn giản là dùng bộ dữ liệu đã được thu nhập sẵn. File dữ liệu được lấy từ trên [kaggle](https://www.kaggle.com/shivamb/netflix-shows). File dữ liệu được đặt tên \"netflix_titles.csv\".\n",
    "\n",
    "Theo mô tả [file dữ liệu](https://www.kaggle.com/shivamb/netflix-shows):\n",
    "> Netflix is one of the most popular media and video streaming platforms.\n",
    "> There are over 8000 movies or tv shows available on their platform, as of mid-2021, they have over 200M Subscribers globally.\n",
    "> This tabular dataset consists of listings of all the movies and tv shows available on Netflix, along with details such as - cast, directors, ratings, release year, duration, etc."
   ]
  },
  {
   "cell_type": "markdown",
   "id": "c5dba01b",
   "metadata": {},
   "source": [
    "---"
   ]
  },
  {
   "cell_type": "markdown",
   "id": "13bddd1a",
   "metadata": {},
   "source": [
    "## Khám phá dữ liệu"
   ]
  },
  {
   "cell_type": "markdown",
   "id": "0020bdb4",
   "metadata": {},
   "source": [
    "### Có bao nhiêu dòng, mỗi dòng có ý nghĩa gì?"
   ]
  },
  {
   "cell_type": "code",
   "execution_count": 13,
   "id": "50fe2d21",
   "metadata": {},
   "outputs": [
    {
     "name": "stdout",
     "output_type": "stream",
     "text": [
      "8807\n",
      "12\n"
     ]
    }
   ],
   "source": [
    "raw_data  = ps.read_csv('netflix_titles.csv')\n",
    "n_rows = raw_data.shape[0]\n",
    "\n",
    "print(n_rows)"
   ]
  },
  {
   "cell_type": "markdown",
   "id": "b975b4ce",
   "metadata": {},
   "source": [
    "Mỗi dòng trong bộ dữ liệu sẽ chứa thông tin của một chương trình hoặc một bộ phim được đăng trên Netflix. Có tất cả là 8807 dòng dữ liệu."
   ]
  },
  {
   "cell_type": "markdown",
   "id": "3b5f750a",
   "metadata": {},
   "source": [
    "### Dữ liệu có bị trùng lặp không?"
   ]
  },
  {
   "cell_type": "code",
   "execution_count": 8,
   "id": "26d85b9a",
   "metadata": {},
   "outputs": [
    {
     "data": {
      "text/plain": [
       "False"
      ]
     },
     "execution_count": 8,
     "metadata": {},
     "output_type": "execute_result"
    }
   ],
   "source": [
    "duplicated_value = raw_data[raw_data.duplicated()]\n",
    "is_duplicated = len(duplicated_value) != 0 \n",
    "is_duplicated"
   ]
  },
  {
   "cell_type": "markdown",
   "id": "88bc6810",
   "metadata": {},
   "source": [
    "### Mỗi cột có ý nghĩa gì?"
   ]
  },
  {
   "cell_type": "code",
   "execution_count": 11,
   "id": "630eb64c",
   "metadata": {},
   "outputs": [
    {
     "data": {
      "text/plain": [
       "12"
      ]
     },
     "execution_count": 11,
     "metadata": {},
     "output_type": "execute_result"
    }
   ],
   "source": [
    "n_cols = raw_data.shape[1]\n",
    "\n",
    "print(n_cols)"
   ]
  },
  {
   "cell_type": "markdown",
   "id": "9a2a1a66",
   "metadata": {},
   "source": [
    "Theo file mô tả dữ liệu thì dữ liệu có 12 cột:\n",
    "- **Cột thứ nhất (show_id):** id của show, mỗi id là độc nhất\n",
    "- **Cột thứ hai (type):** Phân loại của show\n",
    "- **Cột thứ ba (title):** tựa đề của show\n",
    "- **Cột thứ tư (director):** Đạo diễn của show\n",
    "- **Cột thứ năm (cast):** Các diễn viên tham gia show\n",
    "- **Cột thứ sáu (country):** Đất nước sản xuất show\n",
    "- **Cột thứ bảy (date_added):** Ngày mà show được thêm vào Netflix\n",
    "- **Cột thứ tám (release_year):** Thời gian show bắt đầu được chiếu\n",
    "- **Cột thứ chín (rating):** Đánh giá của show\n",
    "- **Cột thứ mười (duration):** Thời lượng của show\n",
    "- **Cột thứ mười một (listed_in):** Thể loại của show\n",
    "- **Cột thứ mười hai (description):** Miêu tả của show"
   ]
  },
  {
   "cell_type": "code",
   "execution_count": 14,
   "id": "669b1abb",
   "metadata": {},
   "outputs": [
    {
     "data": {
      "text/plain": [
       "show_id            0\n",
       "type               0\n",
       "title              0\n",
       "director        2634\n",
       "cast             825\n",
       "country          831\n",
       "date_added        10\n",
       "release_year       0\n",
       "rating             4\n",
       "duration           3\n",
       "listed_in          0\n",
       "description        0\n",
       "dtype: int64"
      ]
     },
     "execution_count": 14,
     "metadata": {},
     "output_type": "execute_result"
    }
   ],
   "source": [
    "raw_data.isna().sum()"
   ]
  },
  {
   "cell_type": "raw",
   "id": "e3817e3c",
   "metadata": {},
   "source": []
  },
  {
   "cell_type": "markdown",
   "id": "8663bcb9",
   "metadata": {},
   "source": [
    "---"
   ]
  },
  {
   "cell_type": "markdown",
   "id": "ad301fe9",
   "metadata": {},
   "source": [
    "## Đưa ra câu hỏi để trả lời"
   ]
  },
  {
   "cell_type": "code",
   "execution_count": 15,
   "id": "08abce13",
   "metadata": {},
   "outputs": [
    {
     "data": {
      "text/plain": [
       "show_id            0\n",
       "type               0\n",
       "title              0\n",
       "director        2634\n",
       "cast             825\n",
       "country          831\n",
       "date_added        10\n",
       "release_year       0\n",
       "rating             4\n",
       "duration           3\n",
       "listed_in          0\n",
       "description        0\n",
       "dtype: int64"
      ]
     },
     "execution_count": 15,
     "metadata": {},
     "output_type": "execute_result"
    }
   ],
   "source": [
    "raw_data.isna().sum()"
   ]
  },
  {
   "cell_type": "markdown",
   "id": "f3163e14",
   "metadata": {},
   "source": [
    "- Nên mời đạo diễn nào cho show truyền hình đó?\n",
    "- Show truyền hình đó được sản xuất ở nước nào?"
   ]
  },
  {
   "cell_type": "markdown",
   "id": "63654c73",
   "metadata": {},
   "source": [
    "---"
   ]
  },
  {
   "cell_type": "markdown",
   "id": "ae21dbd2",
   "metadata": {},
   "source": [
    "### Tiền xử lý"
   ]
  },
  {
   "cell_type": "code",
   "execution_count": null,
   "id": "4c6e058e",
   "metadata": {},
   "outputs": [],
   "source": []
  },
  {
   "cell_type": "markdown",
   "id": "144e79b3",
   "metadata": {},
   "source": [
    "---"
   ]
  },
  {
   "cell_type": "markdown",
   "id": "f3c551ee",
   "metadata": {},
   "source": [
    "### Phân tích dữ liệu để trả lời"
   ]
  }
 ],
 "metadata": {
  "kernelspec": {
   "display_name": "Python 3 (ipykernel)",
   "language": "python",
   "name": "python3"
  },
  "language_info": {
   "codemirror_mode": {
    "name": "ipython",
    "version": 3
   },
   "file_extension": ".py",
   "mimetype": "text/x-python",
   "name": "python",
   "nbconvert_exporter": "python",
   "pygments_lexer": "ipython3",
   "version": "3.8.10"
  }
 },
 "nbformat": 4,
 "nbformat_minor": 5
}
